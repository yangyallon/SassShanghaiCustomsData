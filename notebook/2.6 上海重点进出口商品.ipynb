{
 "cells": [
  {
   "cell_type": "code",
   "execution_count": 3,
   "id": "initial_id",
   "metadata": {
    "ExecuteTime": {
     "end_time": "2023-09-09T02:40:38.227760700Z",
     "start_time": "2023-09-09T02:40:38.195412800Z"
    },
    "collapsed": true
   },
   "outputs": [],
   "source": [
    "import pandas as pd\n",
    "import numpy as np\n",
    "import warnings\n",
    "warnings.filterwarnings('ignore')\n",
    "import os"
   ]
  },
  {
   "cell_type": "code",
   "execution_count": 4,
   "id": "e5a5b128331e02df",
   "metadata": {
    "ExecuteTime": {
     "end_time": "2023-09-09T02:40:38.227760700Z",
     "start_time": "2023-09-09T02:40:38.202317700Z"
    },
    "collapsed": false
   },
   "outputs": [],
   "source": [
    "def int_trans(digit):\n",
    "     x = filter(str.isdigit,digit)\n",
    "     x=float(\"\".join(list(x)))\n",
    "     x=x/100000000\n",
    "     x=round(x,2)\n",
    "     return x"
   ]
  },
  {
   "cell_type": "code",
   "execution_count": 5,
   "id": "ee533f86",
   "metadata": {},
   "outputs": [],
   "source": [
    "country_name=pd.read_excel(r'D:\\YQ-SASS\\上海海关数据更新\\data\\country_name.xlsx')\n",
    "#去除字符串中的空格\n",
    "country_name['中文名称']=country_name['中文名称'].str.replace(' ','')\n",
    "country_name_map=dict(zip(country_name['中文名称'],country_name['大洲']))"
   ]
  },
  {
   "cell_type": "code",
   "execution_count": 7,
   "id": "99df44f2",
   "metadata": {},
   "outputs": [],
   "source": [
    "current_path = os.getcwd()\n",
    "parent_path = os.path.abspath(os.path.dirname(os.getcwd()))"
   ]
  },
  {
   "cell_type": "code",
   "execution_count": 10,
   "id": "c66b4168",
   "metadata": {},
   "outputs": [
    {
     "data": {
      "text/plain": [
       "'d:\\\\YQ-SASS\\\\上海海关数据更新\\\\data\\\\上海重点进出口商品'"
      ]
     },
     "execution_count": 10,
     "metadata": {},
     "output_type": "execute_result"
    }
   ],
   "source": [
    "parent_path + '\\data\\上海重点进出口商品/'"
   ]
  },
  {
   "cell_type": "code",
   "execution_count": 16,
   "id": "211e5315",
   "metadata": {},
   "outputs": [],
   "source": [
    "update_month  = '5月'"
   ]
  },
  {
   "cell_type": "code",
   "execution_count": 29,
   "id": "2987ff62dc1e3589",
   "metadata": {
    "ExecuteTime": {
     "end_time": "2023-09-09T02:41:02.882140700Z",
     "start_time": "2023-09-09T02:41:02.573625Z"
    },
    "collapsed": false
   },
   "outputs": [],
   "source": [
    "def important_product(parent_path):\n",
    "    for product in['集成电路','笔记本电脑','锂离子蓄电池','电动载人汽车'] :\n",
    "        if product == '集成电路':\n",
    "            eximlist=['进口','出口']\n",
    "        else:\n",
    "            eximlist=['出口']\n",
    "        for exim in eximlist:\n",
    "            df_product=pd.DataFrame()\n",
    "            for year in ['2019','2022','2023','2024']:\n",
    "                df=pd.read_csv(parent_path + '\\data\\上海重点进出口商品/'+r'%s%s%s.csv'%(year,product,exim),encoding='gbk')\n",
    "                df['人民币']=df['人民币'].apply(lambda x:int_trans(x))\n",
    "                df_pt=pd.pivot_table(df[['贸易伙伴名称','人民币']],index='贸易伙伴名称',values='人民币',aggfunc=np.sum).reset_index()\n",
    "                df_pt['年份']=year\n",
    "                df_product=pd.concat([df_pt,df_product],axis=0,ignore_index=True)\n",
    "\n",
    "            print(product)   \n",
    "            df_2019=df_product[df_product['年份']=='2019']\n",
    "            df_2022=df_product[df_product['年份']=='2022']\n",
    "            df_2023=df_product[df_product['年份']=='2023']\n",
    "            df_2024=df_product[df_product['年份']=='2024']\n",
    "            \n",
    "            df_2019['2019年占比']=df_2019['人民币']/df_2019['人民币'].sum()\n",
    "            df_2022['2022年占比']=df_2022['人民币']/df_2022['人民币'].sum()\n",
    "            df_2023['2023年1-11月占比']=df_2023['人民币']/df_2023['人民币'].sum()\n",
    "            df_2024[f'2024年1-{update_month}占比']=df_2024['人民币']/df_2024['人民币'].sum()\n",
    "            \n",
    "            df_2019.rename(columns={'人民币':'2019年金额'},inplace=True)\n",
    "            df_2022.rename(columns={'人民币':'2022年金额'},inplace=True)\n",
    "            df_2023.rename(columns={'人民币':'2023年1-11月金额'},inplace=True)\n",
    "            df_2024.rename(columns={'人民币':f'2024年1-{update_month}金额'},inplace=True)\n",
    "            \n",
    "            res=df_2019.merge(df_2022,on='贸易伙伴名称',how='outer')\n",
    "            res=res.merge(df_2023,on='贸易伙伴名称',how='outer')\n",
    "            res=res.merge(df_2024,on='贸易伙伴名称',how='outer',suffixes=['_dd','_ss'])\n",
    "            res=res[['贸易伙伴名称', '2019年金额', '2019年占比', '2022年金额', '2022年占比','2023年1-11月占比',f'2024年1-{update_month}金额',f'2024年1-{update_month}占比']]\n",
    "            res=res.fillna(0)\n",
    "            res.sort_values(by='2023年1-11月占比',ascending=False,inplace=True)\n",
    "            res['大洲']=res['贸易伙伴名称'].map(country_name_map)\n",
    "        \n",
    "            res.to_excel(r'../output/%s%s.xlsx'%(product,exim),index=False)\n",
    "\n",
    "        df_2023_= pd.read_csv(parent_path + f'\\data\\上海重点进出口商品/'+f'2023年1-{update_month}电动载人汽车出口.csv',encoding='gbk')\n",
    "        df_2023_['人民币']=df_2023_['人民币'].apply(lambda x:int_trans(x))\n",
    "        df_pt=pd.pivot_table(df_2023_[['贸易伙伴名称','人民币']],index='贸易伙伴名称',values='人民币',aggfunc=np.sum).reset_index()\n",
    "        df_pt[f'2023年1-{update_month}占比']=df_pt['人民币']/df_pt['人民币'].sum()\n",
    "        df_pt.merge(df_2024,on='贸易伙伴名称',how='outer',).to_excel(f'..//output/2023与2024年1到{update_month}.xlsx',index=False)\n",
    "\n",
    "\n",
    "\n",
    "        \n",
    "   \n",
    "\n",
    "    \n",
    "   \n",
    "        \n",
    "        "
   ]
  }
 ],
 "metadata": {
  "kernelspec": {
   "display_name": "Python 3",
   "language": "python",
   "name": "python3"
  },
  "language_info": {
   "codemirror_mode": {
    "name": "ipython",
    "version": 3
   },
   "file_extension": ".py",
   "mimetype": "text/x-python",
   "name": "python",
   "nbconvert_exporter": "python",
   "pygments_lexer": "ipython3",
   "version": "3.9.18"
  }
 },
 "nbformat": 4,
 "nbformat_minor": 5
}
