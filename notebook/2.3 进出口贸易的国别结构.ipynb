{
 "cells": [
  {
   "cell_type": "code",
   "execution_count": 3,
   "id": "initial_id",
   "metadata": {
    "ExecuteTime": {
     "end_time": "2023-09-14T02:36:34.408709800Z",
     "start_time": "2023-09-14T02:36:34.390511300Z"
    },
    "collapsed": true
   },
   "outputs": [],
   "source": [
    "import pandas as pd\n",
    "import numpy as np\n",
    "import warnings\n",
    "warnings.filterwarnings('ignore')\n",
    "import os\n",
    "\n",
    "def int_trans(digit):\n",
    "     x = filter(str.isdigit,digit)\n",
    "     x=int(\"\".join(list(x)))\n",
    "     return x"
   ]
  },
  {
   "cell_type": "code",
   "execution_count": 4,
   "id": "72007ecbb913624",
   "metadata": {
    "ExecuteTime": {
     "end_time": "2023-09-14T02:36:35.580589500Z",
     "start_time": "2023-09-14T02:36:34.430302900Z"
    },
    "collapsed": false
   },
   "outputs": [],
   "source": [
    "for excel in [\"出口下降六国\", \"出口增长六国\", \"进口下降五国\", \"进口增长五国\"]:\n",
    "    \n",
    "    data_2019 = pd.read_csv(\n",
    "        r\"D:\\YQ-SASS\\数字贸易\\上海进出口数据\\上海进出口数据v5\\上海进出口数据\\上海海关分国家/\"\n",
    "        + \"%s%s.csv\" % (\"2019\", excel),\n",
    "        encoding=\"gbk\",\n",
    "    )\n",
    "    data_2019 = data_2019[[\"商品编码\", \"商品名称\", \"贸易伙伴名称\", \"人民币\"]]\n",
    "    data_2019[\"人民币\"] = data_2019[\"人民币\"].apply(lambda x: int_trans(x))\n",
    "    data_2019.loc[data_2019[\"商品编码\"] == 87, \"商品名称\"] = \"第87章  车辆及其零件、附件,但铁道及电车道车辆除外\"\n",
    "    data_2019.loc[data_2019[\"商品编码\"] == 15, \"商品名称\"] = \"第15章  动、植物油、脂及其分解产品；精制的食用油脂；动、植物蜡\"\n",
    "    data_2019.loc[data_2019[\"商品编码\"] == 16, \"商品名称\"] = \"第16章  肉、鱼、甲壳动物、软体动物及其他水生无脊椎动物的制品\"\n",
    "\n",
    "    data_2022 = pd.read_csv(\n",
    "        r\"D:\\YQ-SASS\\数字贸易\\上海进出口数据\\上海进出口数据v5\\上海进出口数据\\上海海关分国家/\"\n",
    "        + \"%s%s.csv\" % (\"2022\", excel),\n",
    "        encoding=\"gbk\",\n",
    "    )\n",
    "    data_2022 = data_2022[[\"商品编码\", \"商品名称\", \"贸易伙伴名称\", \"人民币\"]]\n",
    "    data_2022[\"人民币\"] = data_2022[\"人民币\"].apply(lambda x: int_trans(x))\n",
    "    data_2022.loc[data_2022[\"商品编码\"] == 87, \"商品名称\"] = \"第87章  车辆及其零件、附件,但铁道及电车道车辆除外\"\n",
    "    data_2022.loc[data_2022[\"商品编码\"] == 15, \"商品名称\"] = \"第15章  动、植物油、脂及其分解产品；精制的食用油脂；动、植物蜡\"\n",
    "    data_2022.loc[data_2022[\"商品编码\"] == 16, \"商品名称\"] = \"第16章  肉、鱼、甲壳动物、软体动物及其他水生无脊椎动物的制品\"\n",
    "\n",
    "    data_2023 = pd.read_csv(\n",
    "        r\"D:\\YQ-SASS\\数字贸易\\上海进出口数据\\上海进出口数据v5\\上海进出口数据\\上海海关分国家/\"\n",
    "        + \"%s%s.csv\" % (\"2023\", excel),\n",
    "        encoding=\"gbk\",\n",
    "    )\n",
    "    data_2023 = data_2023[[\"商品编码\", \"商品名称\", \"贸易伙伴名称\", \"人民币\"]]\n",
    "    data_2023[\"人民币\"] = data_2023[\"人民币\"].apply(lambda x: int_trans(x))\n",
    "    data_2023.loc[data_2023[\"商品编码\"] == 87, \"商品名称\"] = \"第87章  车辆及其零件、附件,但铁道及电车道车辆除外\"\n",
    "    data_2023.loc[data_2023[\"商品编码\"] == 15, \"商品名称\"] = \"第15章  动、植物油、脂及其分解产品；精制的食用油脂；动、植物蜡\"\n",
    "    data_2023.loc[data_2023[\"商品编码\"] == 16, \"商品名称\"] = \"第16章  肉、鱼、甲壳动物、软体动物及其他水生无脊椎动物的制品\"\n",
    "\n",
    "    for coun in data_2023[\"贸易伙伴名称\"].unique().tolist():\n",
    "        df_2019 = data_2019[data_2019[\"贸易伙伴名称\"] == coun]\n",
    "        df_2019[\"人民币\"] = df_2019[\"人民币\"] / 100000000\n",
    "        df_2019[\"2019年占比\"] = round(df_2019[\"人民币\"] * 100 / df_2019[\"人民币\"].sum(), 4)\n",
    "        df_2019.rename(columns={\"人民币\": \"2019年%s金额\" % (excel[0:2])}, inplace=True)\n",
    "\n",
    "        df_2022 = data_2022[data_2022[\"贸易伙伴名称\"] == coun]\n",
    "        df_2022[\"人民币\"] = df_2022[\"人民币\"] / 100000000\n",
    "        df_2022[\"2022年占比\"] = round(df_2022[\"人民币\"] * 100 / df_2022[\"人民币\"].sum(), 4)\n",
    "        df_2022.rename(columns={\"人民币\": \"2022年%s金额\" % (excel[0:2])}, inplace=True)\n",
    "\n",
    "        df_2023 = data_2023[data_2023[\"贸易伙伴名称\"] == coun]\n",
    "        df_2023[\"人民币\"] = df_2023[\"人民币\"] / 100000000\n",
    "        df_2023[\"2023年占比\"] = round(df_2023[\"人民币\"] * 100 / df_2023[\"人民币\"].sum(), 4)\n",
    "\n",
    "        df_2023.rename(columns={\"人民币\": \"2023年%s金额\" % (excel[0:2])}, inplace=True)\n",
    "\n",
    "        df = df_2019.merge(df_2022, on=[\"商品名称\", \"贸易伙伴名称\", \"商品编码\"], how=\"outer\")\n",
    "        df = df.merge(df_2023, on=[\"商品名称\", \"贸易伙伴名称\", \"商品编码\"], how=\"outer\")\n",
    "\n",
    "        # df.fillna(0,inplace=True)\n",
    "        df[\"2022年占比变化\"] = df[\"2022年占比\"] - df[\"2019年占比\"]\n",
    "        df[\"2023年占比变化\"] = df[\"2023年占比\"] - df[\"2019年占比\"]\n",
    "        df = df.sort_values(by=\"商品编码\", ascending=True)\n",
    "        # df.drop([\"贸易伙伴名称\"], axis=1, inplace=True)\n",
    "        # df=df.rename(columns={'商品名称_y':'商品名称'})\n",
    "        # df=df[['商品编码','商品名称','2019年出口金额','2019年占比','2023年出口金额','2023年占比','占比变化']]\n",
    "        writer= r\"D:\\YQ-SASS\\数字贸易\\上海进出口数据\\上海进出口数据v5\\上海进出口数据\\代码和结果/2.3 分国别结果/\" +coun+ excel + \".xlsx\"\n",
    "\n",
    "        df.to_excel(writer, index=False)\n",
    "        # writer.save()"
   ]
  }
 ],
 "metadata": {
  "kernelspec": {
   "display_name": "Python 3",
   "language": "python",
   "name": "python3"
  },
  "language_info": {
   "codemirror_mode": {
    "name": "ipython",
    "version": 3
   },
   "file_extension": ".py",
   "mimetype": "text/x-python",
   "name": "python",
   "nbconvert_exporter": "python",
   "pygments_lexer": "ipython3",
   "version": "3.11.5"
  }
 },
 "nbformat": 4,
 "nbformat_minor": 5
}
