{
 "cells": [
  {
   "cell_type": "code",
   "execution_count": 1,
   "metadata": {},
   "outputs": [
    {
     "ename": "ModuleNotFoundError",
     "evalue": "No module named 'config'",
     "output_type": "error",
     "traceback": [
      "\u001b[1;31m---------------------------------------------------------------------------\u001b[0m",
      "\u001b[1;31mModuleNotFoundError\u001b[0m                       Traceback (most recent call last)",
      "Cell \u001b[1;32mIn[1], line 4\u001b[0m\n\u001b[0;32m      2\u001b[0m \u001b[38;5;28;01mimport\u001b[39;00m \u001b[38;5;21;01mos\u001b[39;00m\n\u001b[0;32m      3\u001b[0m \u001b[38;5;28;01mimport\u001b[39;00m \u001b[38;5;21;01msys\u001b[39;00m\n\u001b[1;32m----> 4\u001b[0m \u001b[38;5;28;01mimport\u001b[39;00m \u001b[38;5;21;01mconfig\u001b[39;00m\n\u001b[0;32m      5\u001b[0m current_path \u001b[38;5;241m=\u001b[39m os\u001b[38;5;241m.\u001b[39mgetcwd()\n\u001b[0;32m      6\u001b[0m parent_path \u001b[38;5;241m=\u001b[39m os\u001b[38;5;241m.\u001b[39mpath\u001b[38;5;241m.\u001b[39mabspath(os\u001b[38;5;241m.\u001b[39mpath\u001b[38;5;241m.\u001b[39mdirname(os\u001b[38;5;241m.\u001b[39mgetcwd()))\n",
      "\u001b[1;31mModuleNotFoundError\u001b[0m: No module named 'config'"
     ]
    }
   ],
   "source": [
    "import pandas as pd \n",
    "import os\n",
    "import sys\n",
    "import config\n",
    "current_path = os.getcwd()\n",
    "parent_path = os.path.abspath(os.path.dirname(os.getcwd()))\n",
    "sys.path.append(parent_path)"
   ]
  },
  {
   "cell_type": "markdown",
   "metadata": {},
   "source": [
    "# table 1"
   ]
  },
  {
   "cell_type": "code",
   "execution_count": null,
   "metadata": {},
   "outputs": [
    {
     "ename": "NameError",
     "evalue": "name 'parent_path' is not defined",
     "output_type": "error",
     "traceback": [
      "\u001b[1;31m---------------------------------------------------------------------------\u001b[0m",
      "\u001b[1;31mNameError\u001b[0m                                 Traceback (most recent call last)",
      "\u001b[1;32md:\\YQ-SASS\\上海海关数据更新\\notebook\\result.ipynb 单元格 3\u001b[0m line \u001b[0;36m1\n\u001b[1;32m----> <a href='vscode-notebook-cell:/d%3A/YQ-SASS/%E4%B8%8A%E6%B5%B7%E6%B5%B7%E5%85%B3%E6%95%B0%E6%8D%AE%E6%9B%B4%E6%96%B0/notebook/result.ipynb#W2sZmlsZQ%3D%3D?line=0'>1</a>\u001b[0m table_01 \u001b[39m=\u001b[39m pd\u001b[39m.\u001b[39mread_excel(parent_path \u001b[39m+\u001b[39m \u001b[39mr\u001b[39m\u001b[39m\"\u001b[39m\u001b[39m\\\u001b[39m\u001b[39moutput\u001b[39m\u001b[39m\\\u001b[39m\u001b[39m2.1结果.xlsx\u001b[39m\u001b[39m\"\u001b[39m)\n\u001b[0;32m      <a href='vscode-notebook-cell:/d%3A/YQ-SASS/%E4%B8%8A%E6%B5%B7%E6%B5%B7%E5%85%B3%E6%95%B0%E6%8D%AE%E6%9B%B4%E6%96%B0/notebook/result.ipynb#W2sZmlsZQ%3D%3D?line=2'>3</a>\u001b[0m table_1_1 \u001b[39m=\u001b[39m (\n\u001b[0;32m      <a href='vscode-notebook-cell:/d%3A/YQ-SASS/%E4%B8%8A%E6%B5%B7%E6%B5%B7%E5%85%B3%E6%95%B0%E6%8D%AE%E6%9B%B4%E6%96%B0/notebook/result.ipynb#W2sZmlsZQ%3D%3D?line=3'>4</a>\u001b[0m     pd\u001b[39m.\u001b[39mpivot_table(table_01, index\u001b[39m=\u001b[39m\u001b[39m\"\u001b[39m\u001b[39m出口or进口\u001b[39m\u001b[39m\"\u001b[39m, columns\u001b[39m=\u001b[39m\u001b[39m\"\u001b[39m\u001b[39m年份\u001b[39m\u001b[39m\"\u001b[39m, values\u001b[39m=\u001b[39m\u001b[39m\"\u001b[39m\u001b[39m金额\u001b[39m\u001b[39m\"\u001b[39m)\n\u001b[0;32m      <a href='vscode-notebook-cell:/d%3A/YQ-SASS/%E4%B8%8A%E6%B5%B7%E6%B5%B7%E5%85%B3%E6%95%B0%E6%8D%AE%E6%9B%B4%E6%96%B0/notebook/result.ipynb#W2sZmlsZQ%3D%3D?line=4'>5</a>\u001b[0m     \u001b[39m.\u001b[39mreset_index()\n\u001b[0;32m      <a href='vscode-notebook-cell:/d%3A/YQ-SASS/%E4%B8%8A%E6%B5%B7%E6%B5%B7%E5%85%B3%E6%95%B0%E6%8D%AE%E6%9B%B4%E6%96%B0/notebook/result.ipynb#W2sZmlsZQ%3D%3D?line=5'>6</a>\u001b[0m     \u001b[39m.\u001b[39mreplace({\u001b[39m\"\u001b[39m\u001b[39m出口\u001b[39m\u001b[39m\"\u001b[39m: \u001b[39m\"\u001b[39m\u001b[39m上海出口额\u001b[39m\u001b[39m\"\u001b[39m, \u001b[39m\"\u001b[39m\u001b[39m进口\u001b[39m\u001b[39m\"\u001b[39m: \u001b[39m\"\u001b[39m\u001b[39m上海进口额\u001b[39m\u001b[39m\"\u001b[39m, \u001b[39m\"\u001b[39m\u001b[39m进出口\u001b[39m\u001b[39m\"\u001b[39m: \u001b[39m\"\u001b[39m\u001b[39m上海进出口额\u001b[39m\u001b[39m\"\u001b[39m})\n\u001b[0;32m      <a href='vscode-notebook-cell:/d%3A/YQ-SASS/%E4%B8%8A%E6%B5%B7%E6%B5%B7%E5%85%B3%E6%95%B0%E6%8D%AE%E6%9B%B4%E6%96%B0/notebook/result.ipynb#W2sZmlsZQ%3D%3D?line=6'>7</a>\u001b[0m     \u001b[39m.\u001b[39mrename(columns\u001b[39m=\u001b[39m{\u001b[39m\"\u001b[39m\u001b[39m出口or进口\u001b[39m\u001b[39m\"\u001b[39m: \u001b[39m\"\u001b[39m\u001b[39m金额/占比\u001b[39m\u001b[39m\"\u001b[39m})\n\u001b[0;32m      <a href='vscode-notebook-cell:/d%3A/YQ-SASS/%E4%B8%8A%E6%B5%B7%E6%B5%B7%E5%85%B3%E6%95%B0%E6%8D%AE%E6%9B%B4%E6%96%B0/notebook/result.ipynb#W2sZmlsZQ%3D%3D?line=7'>8</a>\u001b[0m )\n\u001b[0;32m     <a href='vscode-notebook-cell:/d%3A/YQ-SASS/%E4%B8%8A%E6%B5%B7%E6%B5%B7%E5%85%B3%E6%95%B0%E6%8D%AE%E6%9B%B4%E6%96%B0/notebook/result.ipynb#W2sZmlsZQ%3D%3D?line=9'>10</a>\u001b[0m table_1_2 \u001b[39m=\u001b[39m (\n\u001b[0;32m     <a href='vscode-notebook-cell:/d%3A/YQ-SASS/%E4%B8%8A%E6%B5%B7%E6%B5%B7%E5%85%B3%E6%95%B0%E6%8D%AE%E6%9B%B4%E6%96%B0/notebook/result.ipynb#W2sZmlsZQ%3D%3D?line=10'>11</a>\u001b[0m     pd\u001b[39m.\u001b[39mpivot_table(table_01, index\u001b[39m=\u001b[39m\u001b[39m\"\u001b[39m\u001b[39m出口or进口\u001b[39m\u001b[39m\"\u001b[39m, columns\u001b[39m=\u001b[39m\u001b[39m\"\u001b[39m\u001b[39m年份\u001b[39m\u001b[39m\"\u001b[39m, values\u001b[39m=\u001b[39m\u001b[39m\"\u001b[39m\u001b[39m同比\u001b[39m\u001b[39m\"\u001b[39m)\n\u001b[0;32m     <a href='vscode-notebook-cell:/d%3A/YQ-SASS/%E4%B8%8A%E6%B5%B7%E6%B5%B7%E5%85%B3%E6%95%B0%E6%8D%AE%E6%9B%B4%E6%96%B0/notebook/result.ipynb#W2sZmlsZQ%3D%3D?line=11'>12</a>\u001b[0m     \u001b[39m.\u001b[39mreset_index()\n\u001b[0;32m     <a href='vscode-notebook-cell:/d%3A/YQ-SASS/%E4%B8%8A%E6%B5%B7%E6%B5%B7%E5%85%B3%E6%95%B0%E6%8D%AE%E6%9B%B4%E6%96%B0/notebook/result.ipynb#W2sZmlsZQ%3D%3D?line=12'>13</a>\u001b[0m     \u001b[39m.\u001b[39mreplace({\u001b[39m\"\u001b[39m\u001b[39m出口\u001b[39m\u001b[39m\"\u001b[39m: \u001b[39m\"\u001b[39m\u001b[39m出口同比\u001b[39m\u001b[39m\"\u001b[39m, \u001b[39m\"\u001b[39m\u001b[39m进口\u001b[39m\u001b[39m\"\u001b[39m: \u001b[39m\"\u001b[39m\u001b[39m进口同比\u001b[39m\u001b[39m\"\u001b[39m, \u001b[39m\"\u001b[39m\u001b[39m进出口\u001b[39m\u001b[39m\"\u001b[39m: \u001b[39m\"\u001b[39m\u001b[39m进出口同比\u001b[39m\u001b[39m\"\u001b[39m})\n\u001b[0;32m     <a href='vscode-notebook-cell:/d%3A/YQ-SASS/%E4%B8%8A%E6%B5%B7%E6%B5%B7%E5%85%B3%E6%95%B0%E6%8D%AE%E6%9B%B4%E6%96%B0/notebook/result.ipynb#W2sZmlsZQ%3D%3D?line=13'>14</a>\u001b[0m     \u001b[39m.\u001b[39mrename(columns\u001b[39m=\u001b[39m{\u001b[39m\"\u001b[39m\u001b[39m出口or进口\u001b[39m\u001b[39m\"\u001b[39m: \u001b[39m\"\u001b[39m\u001b[39m金额/占比\u001b[39m\u001b[39m\"\u001b[39m})\n\u001b[0;32m     <a href='vscode-notebook-cell:/d%3A/YQ-SASS/%E4%B8%8A%E6%B5%B7%E6%B5%B7%E5%85%B3%E6%95%B0%E6%8D%AE%E6%9B%B4%E6%96%B0/notebook/result.ipynb#W2sZmlsZQ%3D%3D?line=14'>15</a>\u001b[0m )\n",
      "\u001b[1;31mNameError\u001b[0m: name 'parent_path' is not defined"
     ]
    }
   ],
   "source": [
    "table_01 = pd.read_excel(parent_path + r\"\\output\\2.1结果.xlsx\")\n",
    "\n",
    "table_1_1 = (\n",
    "    pd.pivot_table(table_01, index=\"出口or进口\", columns=\"年份\", values=\"金额\")\n",
    "    .reset_index()\n",
    "    .replace({\"出口\": \"上海出口额\", \"进口\": \"上海进口额\", \"进出口\": \"上海进出口额\"})\n",
    "    .rename(columns={\"出口or进口\": \"金额/占比\"})\n",
    ")\n",
    "\n",
    "table_1_2 = (\n",
    "    pd.pivot_table(table_01, index=\"出口or进口\", columns=\"年份\", values=\"同比\")\n",
    "    .reset_index()\n",
    "    .replace({\"出口\": \"出口同比\", \"进口\": \"进口同比\", \"进出口\": \"进出口同比\"})\n",
    "    .rename(columns={\"出口or进口\": \"金额/占比\"})\n",
    ")\n",
    "\n",
    "table_1_3 = (\n",
    "    pd.pivot_table(table_01, index=\"出口or进口\", columns=\"年份\", values=\"上海占比全国\")\n",
    "    .reset_index()\n",
    "    .replace(\n",
    "        {\n",
    "            \"出口\": \"出口占全国比重\",\n",
    "            \"进口\": \"进口占全国比重\",\n",
    "            \"进出口\": \"进出口占全国比重\",\n",
    "        }\n",
    "    )\n",
    "    .rename(columns={\"出口or进口\": \"金额/占比\"})\n",
    ")\n",
    "\n",
    "res_table = pd.concat(\n",
    "    [table_1_1, table_1_2, table_1_3], axis=0, ignore_index=True\n",
    ").round(2)\n",
    "res_table.to_excel(\n",
    "    r\"..//result/表1-近五年上海进出口额及占全国比重变化.xlsx\", index=False\n",
    ")"
   ]
  },
  {
   "cell_type": "markdown",
   "metadata": {},
   "source": [
    "## table 2"
   ]
  },
  {
   "cell_type": "code",
   "execution_count": null,
   "metadata": {},
   "outputs": [],
   "source": [
    "table_2 = pd.read_excel(r\"..\\output\\2.2结果.xlsx\")\n",
    "table_export_num = pd.pivot_table(\n",
    "    data=table_2[table_2[\"进口or出口\"] == \"出口\"],\n",
    "    index=[\"商品\"],\n",
    "    columns=[\"年份\"],\n",
    "    values=[\"上海进出口该商品金额\", \"上海同比\"],\n",
    ")\n",
    "export_product = [\n",
    "    \"机电产品\",\n",
    "    \"高新技术产品\",\n",
    "    \"集成电路\",\n",
    "    \"电动载人汽车\",\n",
    "    \"汽车零配件\",\n",
    "    \"自动数据处理设备及其零部件\",\n",
    "    \"笔记本电脑\",\n",
    "    \"手机\",\n",
    "    \"锂离子蓄电池\",\n",
    "    \"太阳能电池\",\n",
    "    \"生命科学技术\",\n",
    "]\n",
    "\n",
    "table_export_num[table_export_num.index.isin(export_product)].round(2).to_excel(\n",
    "    r\"../result/表2-近五年上海重点产品出口金额及增长情况.xlsx\"\n",
    ")"
   ]
  },
  {
   "cell_type": "markdown",
   "metadata": {},
   "source": [
    "## table 3"
   ]
  },
  {
   "cell_type": "code",
   "execution_count": null,
   "metadata": {},
   "outputs": [],
   "source": [
    "\n",
    "table_3 = pd.read_excel(r\"..\\output\\2.2结果.xlsx\")\n",
    "table_export_ratio = pd.pivot_table(\n",
    "    data=table_2[table_2[\"进口or出口\"] == \"出口\"],\n",
    "    index=[\"商品\"],\n",
    "    columns=[\"年份\"],\n",
    "    values=[\"占上海比重\", \"上海占全国比重\"],\n",
    ")\n",
    "export_product = [\n",
    "    \"机电产品\",\n",
    "    \"高新技术产品\",\n",
    "    \"集成电路\",\n",
    "    \"电动载人汽车\",\n",
    "    \"汽车零配件\",\n",
    "    \"自动数据处理设备及其零部件\",\n",
    "    \"笔记本电脑\",\n",
    "    \"手机\",\n",
    "    \"锂离子蓄电池\",\n",
    "    \"太阳能电池\",\n",
    "    \"生命科学技术\",\n",
    "]\n",
    "\n",
    "table_export_ratio[table_export_ratio.index.isin(export_product)].round(1).to_excel(\n",
    "    r\"../result/表3-近五年上海重点产品出口占上海及全国比重变化(%).xlsx\"\n",
    ")"
   ]
  },
  {
   "cell_type": "markdown",
   "metadata": {},
   "source": [
    "## table 4"
   ]
  },
  {
   "cell_type": "code",
   "execution_count": null,
   "metadata": {},
   "outputs": [],
   "source": [
    "update_month = '5月'"
   ]
  },
  {
   "cell_type": "code",
   "execution_count": null,
   "metadata": {},
   "outputs": [],
   "source": [
    "df_2023 = pd.read_excel(f\"../output/2023与2024年1到{update_month}.xlsx\")\n",
    "df_2023.rename(columns={\"贸易伙伴名称\": \"贸易伙伴\"}, inplace=True)\n",
    "df_2023[f\"2024年1-{update_month}同比\"] = (\n",
    "    df_2023[f\"2024年1-{update_month}金额\"] - df_2023[\"人民币\"]\n",
    ") / df_2023[\"人民币\"]\n",
    "\n",
    "\n",
    "table_v4_history = pd.read_excel(\n",
    "    r\"..\\data\\表4历史数据.xlsx\",\n",
    "    usecols=[\n",
    "        \"贸易伙伴\",\n",
    "        \"2019年金额\",\n",
    "        \"2019年占比\",\n",
    "        \"2020年金额\",\n",
    "        \"2020年占比\",\n",
    "        \"2021年金额\",\n",
    "        \"2021年占比\",\n",
    "        \"2022年金额\",\n",
    "        \"2022年占比\",\n",
    "        \"2023年金额\",\n",
    "        \"2023年占比\",\n",
    "    ],\n",
    ")\n",
    "\n",
    "table_v4_history = table_v4_history.merge(\n",
    "    df_2023[\n",
    "        [\n",
    "            \"贸易伙伴\",\n",
    "            f\"2024年1-{update_month}金额\",\n",
    "            f\"2024年1-{update_month}占比\",\n",
    "            \"2024年1-5月同比\",\n",
    "        ]\n",
    "    ],\n",
    "    on=\"贸易伙伴\",\n",
    "    how=\"left\",\n",
    ")\n",
    "\n",
    "for ratio in [\n",
    "    \"2019年占比\",\n",
    "    \"2020年占比\",\n",
    "    \"2021年占比\",\n",
    "    \"2022年占比\",\n",
    "    \"2023年占比\",\n",
    "    f\"2024年1-{update_month}占比\",\n",
    "    f\"2024年1-{update_month}同比\",\n",
    "]:\n",
    "    # 将'values'列转换为百分比\n",
    "    table_v4_history[ratio] = table_v4_history[ratio] * 100\n",
    "    table_v4_history[ratio] = table_v4_history[ratio].apply(lambda x: f\"{x:.2f}%\")\n",
    "\n",
    "    table_v4_history.to_excel(\n",
    "        r\"../result/表4-2019-2024年上海电动载人汽车出口目的地金额及占比（亿元）.xlsx\",\n",
    "        index=False,\n",
    "    )"
   ]
  },
  {
   "cell_type": "markdown",
   "metadata": {},
   "source": [
    "## table 5"
   ]
  },
  {
   "cell_type": "code",
   "execution_count": null,
   "metadata": {},
   "outputs": [],
   "source": [
    "table_5 = pd.read_excel(r'../output//锂离子蓄电池出口.xlsx',)\n",
    "table_v5_history = pd.read_excel(\n",
    "    r\"..\\data\\表5历史数据.xlsx\",\n",
    "    usecols=[\n",
    "        \"贸易伙伴名称\",\n",
    "        \"2019年金额\",\n",
    "        \"2019年占比\",\n",
    "        \"2022年金额\",\n",
    "        \"2022年占比\",\n",
    "        \"2023年金额\",\n",
    "        \"2023年占比\",\n",
    "    ],\n",
    ")\n",
    "\n",
    "table_v5_history = table_v5_history.merge(\n",
    "    table_5[\n",
    "        [\n",
    "            \"贸易伙伴名称\",\n",
    "            f\"2024年1-{update_month}金额\",\n",
    "            f\"2024年1-{update_month}占比\",\n",
    "        ]\n",
    "    ],\n",
    "    on=\"贸易伙伴名称\",\n",
    "    how=\"left\",\n",
    ")\n",
    "for ratio in [\n",
    "    \"2019年占比\",\n",
    "    \"2022年占比\",\n",
    "    \"2023年占比\",\n",
    "    f\"2024年1-{update_month}占比\",\n",
    "]:\n",
    "    # 将'values'列转换为百分比\n",
    "    table_v5_history[ratio] = table_v5_history[ratio] * 100\n",
    "    table_v5_history[ratio] = table_v5_history[ratio].apply(lambda x: f\"{x:.2f}%\")\n",
    "\n",
    "    table_v5_history.to_excel(\n",
    "        r\"../result/2019-2024年上海锂离子蓄电池出口目的地金额及占比（亿元）.xlsx\",\n",
    "        index=False,\n",
    "    )"
   ]
  },
  {
   "cell_type": "markdown",
   "metadata": {},
   "source": [
    "## table 6"
   ]
  },
  {
   "cell_type": "code",
   "execution_count": null,
   "metadata": {},
   "outputs": [],
   "source": [
    "table_6 = pd.read_excel(r'../output//笔记本电脑出口.xlsx',)\n",
    "table_v6_history = pd.read_excel(\n",
    "    r\"..\\data\\表6历史数据.xlsx\",\n",
    "    usecols=[\n",
    "        \"贸易伙伴名称\",\n",
    "        \"2019年金额\",\n",
    "        \"2019年占比\",\n",
    "        \"2022年金额\",\n",
    "        \"2022年占比\",\n",
    "        \"2023年金额\",\n",
    "        \"2023年占比\",\n",
    "    ],\n",
    ")\n",
    "\n",
    "table_v6_history = table_v6_history.merge(\n",
    "    table_6[\n",
    "        [\n",
    "            \"贸易伙伴名称\",\n",
    "            f\"2024年1-{update_month}金额\",\n",
    "            f\"2024年1-{update_month}占比\",\n",
    "        ]\n",
    "    ],\n",
    "    on=\"贸易伙伴名称\",\n",
    "    how=\"left\",\n",
    ")\n",
    "for ratio in [\n",
    "    \"2019年占比\",\n",
    "    \"2022年占比\",\n",
    "    \"2023年占比\",\n",
    "    f\"2024年1-{update_month}占比\",\n",
    "]:\n",
    "    # 将'values'列转换为百分比\n",
    "    table_v6_history[ratio] = table_v6_history[ratio] * 100\n",
    "    table_v6_history[ratio] = table_v6_history[ratio].apply(lambda x: f\"{x:.2f}%\")\n",
    "\n",
    "    table_v6_history.to_excel(\n",
    "        r\"../result/表6-2019-2024年上海笔记本电脑出口目的地金额及占比（亿元）.xlsx\",\n",
    "        index=False,\n",
    "    )"
   ]
  },
  {
   "cell_type": "markdown",
   "metadata": {},
   "source": [
    "## table 7"
   ]
  },
  {
   "cell_type": "code",
   "execution_count": null,
   "metadata": {},
   "outputs": [],
   "source": [
    "table_7 = pd.read_excel(r\"..\\output\\2.2结果.xlsx\")\n",
    "table_import_num = pd.pivot_table(\n",
    "    data=table_7[table_7[\"进口or出口\"] == \"进口\"],\n",
    "    index=[\"商品\"],\n",
    "    columns=[\"年份\"],\n",
    "    values=[\"上海进出口该商品金额\", \"上海同比\"],\n",
    ")\n",
    "import_product = [\n",
    "    \"机电产品\",\n",
    "    \"高新技术产品\",\n",
    "    \"集成电路\",\n",
    "    \"农产品\",\n",
    "    \"金属矿及矿砂\",\n",
    "    \"生命科学技术\",\n",
    "    \"计量检测分析自控仪器器具\",\n",
    "    \"医疗仪器器械\",]\n",
    "\n",
    "table_import_num[table_import_num.index.isin(import_product)].round(2).to_excel(\n",
    "    r\"../result/表7-近五年上海重点产品进口金额及增长情况 （亿元，%）.xlsx\"\n",
    ")"
   ]
  },
  {
   "cell_type": "markdown",
   "metadata": {},
   "source": [
    "## table 8"
   ]
  },
  {
   "cell_type": "code",
   "execution_count": null,
   "metadata": {},
   "outputs": [],
   "source": [
    "table_8 = pd.read_excel(r\"..\\output\\2.2结果.xlsx\")\n",
    "table_import_num = pd.pivot_table(\n",
    "    data=table_8[table_8[\"进口or出口\"] == \"进口\"],\n",
    "    index=[\"商品\"],\n",
    "    columns=[\"年份\"],\n",
    "    values=[\"占上海比重\", \"上海占全国比重\"],\n",
    ")\n",
    "import_product = [\n",
    "    \"机电产品\",\n",
    "    \"高新技术产品\",\n",
    "    \"集成电路\",\n",
    "    \"农产品\",\n",
    "    \"金属矿及矿砂\",\n",
    "    \"生命科学技术\",\n",
    "    \"计量检测分析自控仪器器具\",\n",
    "    \"医疗仪器器械\",\n",
    "]\n",
    "\n",
    "table_import_num[table_import_num.index.isin(import_product)].round(2).to_excel(\n",
    "    r\"../result/表8-近五年上海重点产品进口占上海及全国比重变化（亿元）.xlsx\"\n",
    ")"
   ]
  },
  {
   "cell_type": "code",
   "execution_count": null,
   "metadata": {},
   "outputs": [
    {
     "data": {
      "text/plain": [
       "<module 'table' from 'd:\\\\YQ-SASS\\\\上海海关数据更新\\\\code\\\\table.py'>"
      ]
     },
     "execution_count": 3,
     "metadata": {},
     "output_type": "execute_result"
    }
   ],
   "source": [
    "import table\n",
    "table.table_output()\n",
    "import imp \n",
    "imp.reload(table)"
   ]
  },
  {
   "cell_type": "code",
   "execution_count": null,
   "metadata": {},
   "outputs": [],
   "source": [
    "writer = pd.ExcelWriter(f\"上海进出口数据更新{config.update_month}.xlsx\")"
   ]
  },
  {
   "cell_type": "code",
   "execution_count": null,
   "metadata": {},
   "outputs": [],
   "source": [
    "table_1  = table.table1_output()\n",
    "table_2  = table.table2_output()"
   ]
  },
  {
   "cell_type": "code",
   "execution_count": null,
   "metadata": {},
   "outputs": [],
   "source": []
  },
  {
   "cell_type": "code",
   "execution_count": null,
   "metadata": {},
   "outputs": [],
   "source": [
    "# writer.save()\n",
    "writer.close()"
   ]
  },
  {
   "cell_type": "code",
   "execution_count": null,
   "metadata": {},
   "outputs": [],
   "source": [
    "with pd.ExcelWriter(\"数据更新合集.xlsx\") as writer:\n",
    "\ttable_1.to_excel(writer, sheet_name=\"表1-近五年上海进出口额及占全国比重变化\",index=False)\n",
    "\n",
    "with pd.ExcelWriter(\"数据更新合集.xlsx\") as writer:\n",
    "    table_2.to_excel(writer, sheet_name=\"表2-近五年上海重点产品出口金额及增长情况.xlsx\")"
   ]
  }
 ],
 "metadata": {
  "kernelspec": {
   "display_name": "base",
   "language": "python",
   "name": "python3"
  },
  "language_info": {
   "codemirror_mode": {
    "name": "ipython",
    "version": 3
   },
   "file_extension": ".py",
   "mimetype": "text/x-python",
   "name": "python",
   "nbconvert_exporter": "python",
   "pygments_lexer": "ipython3",
   "version": "3.12.4"
  }
 },
 "nbformat": 4,
 "nbformat_minor": 2
}
