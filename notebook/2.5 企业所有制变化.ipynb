{
 "cells": [
  {
   "cell_type": "code",
   "execution_count": 1,
   "id": "initial_id",
   "metadata": {
    "collapsed": true,
    "ExecuteTime": {
     "end_time": "2023-09-04T06:08:10.862238200Z",
     "start_time": "2023-09-04T06:08:10.360082300Z"
    }
   },
   "outputs": [],
   "source": [
    "import pandas as pd\n",
    "import numpy as np\n",
    "import warnings\n",
    "warnings.filterwarnings('ignore')\n",
    "import os"
   ]
  },
  {
   "cell_type": "code",
   "execution_count": 2,
   "outputs": [],
   "source": [
    "data=pd.read_excel(r'C:\\Users\\yangq\\Desktop\\上海进出口数据\\上海进出口数据\\代码和结果\\分企业性质.xlsx')"
   ],
   "metadata": {
    "collapsed": false,
    "ExecuteTime": {
     "end_time": "2023-09-04T06:35:51.000371200Z",
     "start_time": "2023-09-04T06:35:50.748114900Z"
    }
   },
   "id": "c119999c13183b9b"
  },
  {
   "cell_type": "code",
   "execution_count": 3,
   "outputs": [],
   "source": [
    "df=pd.read_excel(r'C:\\Users\\yangq\\Desktop\\上海进出口数据\\上海进出口数据\\代码和结果\\上海结果.xlsx')"
   ],
   "metadata": {
    "collapsed": false,
    "ExecuteTime": {
     "end_time": "2023-09-04T06:36:08.471719800Z",
     "start_time": "2023-09-04T06:36:08.445807800Z"
    }
   },
   "id": "2031dd971b591cfd"
  },
  {
   "cell_type": "code",
   "execution_count": 5,
   "outputs": [],
   "source": [
    "df=df[['年份','出口or进口','金额']]"
   ],
   "metadata": {
    "collapsed": false,
    "ExecuteTime": {
     "end_time": "2023-09-04T06:36:38.363368500Z",
     "start_time": "2023-09-04T06:36:38.353891600Z"
    }
   },
   "id": "443284d17d55d194"
  },
  {
   "cell_type": "code",
   "execution_count": 7,
   "outputs": [],
   "source": [
    "df.columns=['年份','进出口','上海金额']"
   ],
   "metadata": {
    "collapsed": false,
    "ExecuteTime": {
     "end_time": "2023-09-04T06:37:09.254155200Z",
     "start_time": "2023-09-04T06:37:09.234566Z"
    }
   },
   "id": "1da4b7f460c30c0d"
  },
  {
   "cell_type": "code",
   "execution_count": 11,
   "outputs": [],
   "source": [
    "data_new=data.merge(df,on=['年份','进出口'],how='left')"
   ],
   "metadata": {
    "collapsed": false,
    "ExecuteTime": {
     "end_time": "2023-09-04T06:38:10.155022700Z",
     "start_time": "2023-09-04T06:38:10.139371700Z"
    }
   },
   "id": "4ce6f6ccde94bda5"
  },
  {
   "cell_type": "code",
   "execution_count": 16,
   "outputs": [
    {
     "data": {
      "text/plain": "        企业性质    年份 进出口           金额      上海金额\n0       国有企业  2019  出口  1565.021100  13720.91\n1     外商投资企业  2019  出口  8530.161100  13720.91\n2   　　中外合作企业  2019  出口    70.483000  13720.91\n3   　　中外合资企业  2019  出口  1352.751400  13720.91\n4   　　外商独资企业  2019  出口  7106.926700  13720.91\n..       ...   ...  ..          ...       ...\n89  　　外商投资企业  2023  出口  5047.403707   9959.00\n90    　　民营企业  2023  出口  4025.606630   9959.00\n91    　　国有企业  2023  进口  1555.502055  14501.16\n92  　　外商投资企业  2023  进口  9431.621231  14501.16\n93    　　民营企业  2023  进口  3506.201813  14501.16\n\n[94 rows x 5 columns]",
      "text/html": "<div>\n<style scoped>\n    .dataframe tbody tr th:only-of-type {\n        vertical-align: middle;\n    }\n\n    .dataframe tbody tr th {\n        vertical-align: top;\n    }\n\n    .dataframe thead th {\n        text-align: right;\n    }\n</style>\n<table border=\"1\" class=\"dataframe\">\n  <thead>\n    <tr style=\"text-align: right;\">\n      <th></th>\n      <th>企业性质</th>\n      <th>年份</th>\n      <th>进出口</th>\n      <th>金额</th>\n      <th>上海金额</th>\n    </tr>\n  </thead>\n  <tbody>\n    <tr>\n      <th>0</th>\n      <td>国有企业</td>\n      <td>2019</td>\n      <td>出口</td>\n      <td>1565.021100</td>\n      <td>13720.91</td>\n    </tr>\n    <tr>\n      <th>1</th>\n      <td>外商投资企业</td>\n      <td>2019</td>\n      <td>出口</td>\n      <td>8530.161100</td>\n      <td>13720.91</td>\n    </tr>\n    <tr>\n      <th>2</th>\n      <td>中外合作企业</td>\n      <td>2019</td>\n      <td>出口</td>\n      <td>70.483000</td>\n      <td>13720.91</td>\n    </tr>\n    <tr>\n      <th>3</th>\n      <td>中外合资企业</td>\n      <td>2019</td>\n      <td>出口</td>\n      <td>1352.751400</td>\n      <td>13720.91</td>\n    </tr>\n    <tr>\n      <th>4</th>\n      <td>外商独资企业</td>\n      <td>2019</td>\n      <td>出口</td>\n      <td>7106.926700</td>\n      <td>13720.91</td>\n    </tr>\n    <tr>\n      <th>...</th>\n      <td>...</td>\n      <td>...</td>\n      <td>...</td>\n      <td>...</td>\n      <td>...</td>\n    </tr>\n    <tr>\n      <th>89</th>\n      <td>外商投资企业</td>\n      <td>2023</td>\n      <td>出口</td>\n      <td>5047.403707</td>\n      <td>9959.00</td>\n    </tr>\n    <tr>\n      <th>90</th>\n      <td>民营企业</td>\n      <td>2023</td>\n      <td>出口</td>\n      <td>4025.606630</td>\n      <td>9959.00</td>\n    </tr>\n    <tr>\n      <th>91</th>\n      <td>国有企业</td>\n      <td>2023</td>\n      <td>进口</td>\n      <td>1555.502055</td>\n      <td>14501.16</td>\n    </tr>\n    <tr>\n      <th>92</th>\n      <td>外商投资企业</td>\n      <td>2023</td>\n      <td>进口</td>\n      <td>9431.621231</td>\n      <td>14501.16</td>\n    </tr>\n    <tr>\n      <th>93</th>\n      <td>民营企业</td>\n      <td>2023</td>\n      <td>进口</td>\n      <td>3506.201813</td>\n      <td>14501.16</td>\n    </tr>\n  </tbody>\n</table>\n<p>94 rows × 5 columns</p>\n</div>"
     },
     "execution_count": 16,
     "metadata": {},
     "output_type": "execute_result"
    }
   ],
   "source": [
    "data_new"
   ],
   "metadata": {
    "collapsed": false,
    "ExecuteTime": {
     "end_time": "2023-09-04T06:40:08.038978400Z",
     "start_time": "2023-09-04T06:40:08.015945300Z"
    }
   },
   "id": "41b94fdbf507c4b7"
  },
  {
   "cell_type": "code",
   "execution_count": 18,
   "outputs": [],
   "source": [
    "data_new['进出口占比']=data_new['金额']/data_new['上海金额']*100"
   ],
   "metadata": {
    "collapsed": false,
    "ExecuteTime": {
     "end_time": "2023-09-04T06:40:31.934038600Z",
     "start_time": "2023-09-04T06:40:31.917093500Z"
    }
   },
   "id": "ee0968d404796e17"
  },
  {
   "cell_type": "code",
   "execution_count": 19,
   "outputs": [],
   "source": [
    "data_new.to_excel('2.5分企业性质结果.xlsx',index=False)"
   ],
   "metadata": {
    "collapsed": false,
    "ExecuteTime": {
     "end_time": "2023-09-04T06:41:00.259195500Z",
     "start_time": "2023-09-04T06:41:00.217307Z"
    }
   },
   "id": "579ee56c8b4b4df9"
  },
  {
   "cell_type": "code",
   "execution_count": null,
   "outputs": [],
   "source": [],
   "metadata": {
    "collapsed": false,
    "ExecuteTime": {
     "start_time": "2023-09-04T06:38:19.678779Z"
    }
   },
   "id": "35545083c1b51419"
  },
  {
   "cell_type": "code",
   "execution_count": null,
   "outputs": [],
   "source": [],
   "metadata": {
    "collapsed": false
   },
   "id": "1bfcd3fd21b798b4"
  }
 ],
 "metadata": {
  "kernelspec": {
   "display_name": "Python 3",
   "language": "python",
   "name": "python3"
  },
  "language_info": {
   "codemirror_mode": {
    "name": "ipython",
    "version": 2
   },
   "file_extension": ".py",
   "mimetype": "text/x-python",
   "name": "python",
   "nbconvert_exporter": "python",
   "pygments_lexer": "ipython2",
   "version": "2.7.6"
  }
 },
 "nbformat": 4,
 "nbformat_minor": 5
}
