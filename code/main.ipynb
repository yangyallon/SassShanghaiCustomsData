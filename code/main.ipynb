{
 "cells": [
  {
   "cell_type": "code",
   "execution_count": 1,
   "metadata": {},
   "outputs": [
    {
     "name": "stderr",
     "output_type": "stream",
     "text": [
      "<string>:30: SyntaxWarning: invalid escape sequence '\\{'\n",
      "<string>:31: SyntaxWarning: invalid escape sequence '\\{'\n",
      "<>:30: SyntaxWarning: invalid escape sequence '\\{'\n",
      "<>:31: SyntaxWarning: invalid escape sequence '\\{'\n",
      "<string>:30: SyntaxWarning: invalid escape sequence '\\{'\n",
      "<string>:31: SyntaxWarning: invalid escape sequence '\\{'\n",
      "<>:30: SyntaxWarning: invalid escape sequence '\\{'\n",
      "<>:31: SyntaxWarning: invalid escape sequence '\\{'\n",
      "C:\\Users\\杨黥\\AppData\\Local\\Temp\\ipykernel_5292\\1177876684.py:30: SyntaxWarning: invalid escape sequence '\\{'\n",
      "  if not os.path.exists(parent_path+f'\\\\result\\{config.update_month}'):\n",
      "C:\\Users\\杨黥\\AppData\\Local\\Temp\\ipykernel_5292\\1177876684.py:31: SyntaxWarning: invalid escape sequence '\\{'\n",
      "  result_save_path = os.mkdir(parent_path+f'\\\\result\\{config.update_month}')\n",
      "d:\\上海海关数据更新\\code\\utils.py:126: SyntaxWarning: invalid escape sequence '\\d'\n",
      "  dir_list = os.listdir(parent_path + \"\\data\\上海海关数据\")\n",
      "d:\\上海海关数据更新\\code\\utils.py:129: SyntaxWarning: invalid escape sequence '\\d'\n",
      "  data = pd.read_excel(parent_path + \"\\data\\上海海关数据/\" + dirname, header=3)\n",
      "d:\\上海海关数据更新\\code\\utils.py:157: SyntaxWarning: invalid escape sequence '\\d'\n",
      "  dir_list = os.listdir(parent_path + \"\\data\\全国海关数据\")\n",
      "d:\\上海海关数据更新\\code\\utils.py:163: SyntaxWarning: invalid escape sequence '\\d'\n",
      "  parent_path + \"\\data\\全国海关数据/\" + dirname, header=3\n",
      "d:\\上海海关数据更新\\code\\utils.py:210: SyntaxWarning: invalid escape sequence '\\d'\n",
      "  dirlist = os.listdir(parent_path + \"\\data\\上海海关分贸易方式\")\n",
      "d:\\上海海关数据更新\\code\\utils.py:213: SyntaxWarning: invalid escape sequence '\\d'\n",
      "  data = pd.read_excel(parent_path + \"\\data\\上海海关分贸易方式/\" + dirname)\n",
      "d:\\上海海关数据更新\\code\\utils.py:334: SyntaxWarning: invalid escape sequence '\\d'\n",
      "  + f\"\\data\\上海重点进出口商品/\"\n"
     ]
    },
    {
     "name": "stdout",
     "output_type": "stream",
     "text": [
      "集成电路进口\n",
      "集成电路出口\n",
      "笔记本电脑出口\n",
      "锂离子蓄电池出口\n",
      "电动载人汽车出口\n"
     ]
    }
   ],
   "source": [
    "import utils\n",
    "import config\n",
    "import os\n",
    "import sys \n",
    "current_path = os.getcwd()\n",
    "parent_path = os.path.abspath(os.path.dirname(os.getcwd()))\n",
    "sys.path.append(parent_path)\n",
    "import table\n",
    "import warnings\n",
    "warnings.filterwarnings('ignore')\n",
    "\n",
    "\n",
    "if __name__ == \"__main__\":\n",
    "\n",
    "    df_all = utils.get_custom_all(config.parent_path)\n",
    "    res_custom_sh = utils.get_custom_sh(config.parent_path,df_all)\n",
    "    res_custom_sh.to_excel(r'../output/2.1结果.xlsx',index=False)\n",
    "\n",
    "    data_trade =utils.get_data_trade(config.parent_path)\n",
    "\n",
    "    df_product_sh = utils.get_product_sh(parent_path)\n",
    "    df_product_all = utils.get_product_all(parent_path)\n",
    "\n",
    "    res_product = utils.get_res_product(df_product_sh,df_product_all)\n",
    "    res_product.to_excel(r'../output/2.2结果.xlsx',index=False)\n",
    "    \n",
    "    utils.important_product(parent_path)\n",
    "\n",
    "    ##创建结果储存文件夹\n",
    "    if not os.path.exists(parent_path+f'\\\\result\\{config.update_month}'):\n",
    "            result_save_path = os.mkdir(parent_path+f'\\\\result\\{config.update_month}')\n",
    "\n",
    "    ##输出结果\n",
    "    table.table_output()\n",
    "\n",
    "\n",
    "\n"
   ]
  },
  {
   "cell_type": "code",
   "execution_count": null,
   "metadata": {},
   "outputs": [],
   "source": []
  }
 ],
 "metadata": {
  "kernelspec": {
   "display_name": "base",
   "language": "python",
   "name": "python3"
  },
  "language_info": {
   "codemirror_mode": {
    "name": "ipython",
    "version": 3
   },
   "file_extension": ".py",
   "mimetype": "text/x-python",
   "name": "python",
   "nbconvert_exporter": "python",
   "pygments_lexer": "ipython3",
   "version": "3.12.4"
  }
 },
 "nbformat": 4,
 "nbformat_minor": 2
}
